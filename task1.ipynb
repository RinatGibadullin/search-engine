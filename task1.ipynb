{
 "cells": [
  {
   "cell_type": "markdown",
   "metadata": {},
   "source": [
    "ДЗ №1. Краулер."
   ]
  },
  {
   "cell_type": "code",
   "execution_count": 26,
   "metadata": {},
   "outputs": [],
   "source": [
    "import requests"
   ]
  },
  {
   "cell_type": "code",
   "execution_count": 59,
   "metadata": {},
   "outputs": [],
   "source": [
    "with open(\"list.txt\") as file:\n",
    "    array = [row.strip() for row in file]"
   ]
  },
  {
   "cell_type": "code",
   "execution_count": 60,
   "metadata": {},
   "outputs": [
    {
     "name": "stdout",
     "output_type": "stream",
     "text": [
      "100\n"
     ]
    }
   ],
   "source": [
    "print(len(array))"
   ]
  },
  {
   "cell_type": "code",
   "execution_count": 61,
   "metadata": {},
   "outputs": [],
   "source": [
    "index = open('/home/aliya/files/index.txt','w')"
   ]
  },
  {
   "cell_type": "code",
   "execution_count": 62,
   "metadata": {},
   "outputs": [
    {
     "name": "stdout",
     "output_type": "stream",
     "text": [
      "news.yandex.ru\n",
      "news.mail.ru\n",
      "news.rambler.ru\n",
      "smi2.ru\n",
      "mediametrics.ru\n",
      "lentainform.com\n",
      "kp.ru\n",
      "ria.ru\n",
      "lenta.ru\n",
      "rbc.ru\n",
      "mk.ru\n",
      "rg.ru\n",
      "gazeta.ru\n",
      "iz.ru\n",
      "aif.ru\n",
      "tass.ru\n",
      "vesti.ru\n",
      "kommersant.ru\n",
      "wi-fi.ru\n",
      "sm-news.ru\n",
      "life.ru\n",
      "m24.ru\n",
      "riafan.ru\n",
      "vz.ru\n",
      "interfax.ru\n",
      "7days.ru\n",
      "teleprogramma.pro\n",
      "vm.ru\n",
      "woman.ru\n",
      "cosmo.ru\n",
      "ntv.ru\n",
      "1tv.ru\n",
      "360tv.ru\n",
      "russian.rt.com\n",
      "tvzvezda.ru\n",
      "russia.tv\n",
      "tnt-online.ru\n",
      "tvkultura.ru\n",
      "otr-online.ru\n",
      "mirtv.ru\n",
      "tvc.ru\n",
      "karusel-tv.ru\n",
      "matchtv.ru\n",
      "tvzvezda.ru\n",
      "ren.tv\n",
      "ctc.ru\n",
      "domashniy.ru\n",
      "ctc.ru\n",
      "tv3.ru\n",
      "friday.ru\n",
      "muz-tv.ru\n",
      "radiovesti.ru\n",
      "doverie-tv.ru\n",
      "radiorus.ru\n",
      "radiomayak.ru\n",
      "2gis.ru\n",
      "pkk.rosreestr.ru\n",
      "rasp.yandex.ru\n",
      "metro.yandex.ru\n",
      "autonews.ru\n",
      "autorambler.ru\n",
      "avtovzglyad.ru\n",
      "kolesa.ru\n",
      "culture.ru\n",
      "afisha.ru\n",
      "litres.ru\n",
      "mybook.ru\n",
      "selfpub.ru\n",
      "rustih.ru\n",
      "stihi.ru\n",
      "livelib.ru\n",
      "knigogid.ru\n",
      "fantlab.ru\n",
      "chitalnya.ru\n",
      "nukadeti.ru\n",
      "proza.ru\n",
      "онлайн-читать.рф\n",
      "ilibrary.ru\n",
      "author.today\n",
      "kino-teatr.ru\n",
      "film.ru\n",
      "filmpro.ru\n",
      "kinoafisha.info\n",
      "kg-portal.ru\n",
      "artchive.ru\n",
      "arzamas.academy\n",
      "bolshoi.ru\n",
      "mariinsky.ru\n",
      "kuda-kazan.ru/place/museum/\n",
      "pushkinmuseum.art\n",
      "tretyakovgallery.ru\n",
      "rusmuseum.ru\n",
      "rusneb.ru\n",
      "goskatalog.ru\n",
      "ar.culture.ru\n",
      "habr.com\n",
      "tproger.ru\n",
      "about.gitlab.com\n",
      "python.org\n",
      "github.com\n"
     ]
    }
   ],
   "source": [
    "for idx,el in enumerate(array):\n",
    "    print(el) \n",
    "    url = 'https://'+ el\n",
    "    send=requests.post(url)\n",
    "    filename = '/home/aliya/files/'+ str(idx) + '.txt'\n",
    "    file = open(filename,'w')\n",
    "    file.write(send.text)\n",
    "    index.write(str(idx)+ ' ' + el+'\\n')\n",
    "    file.close()"
   ]
  },
  {
   "cell_type": "code",
   "execution_count": 63,
   "metadata": {},
   "outputs": [],
   "source": [
    "index.close()"
   ]
  }
 ],
 "metadata": {
  "kernelspec": {
   "display_name": "Python 3",
   "language": "python",
   "name": "python3"
  },
  "language_info": {
   "codemirror_mode": {
    "name": "ipython",
    "version": 3
   },
   "file_extension": ".py",
   "mimetype": "text/x-python",
   "name": "python",
   "nbconvert_exporter": "python",
   "pygments_lexer": "ipython3",
   "version": "3.7.3"
  }
 },
 "nbformat": 4,
 "nbformat_minor": 2
}
